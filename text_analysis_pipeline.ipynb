{
  "cells": [
    {
      "cell_type": "code",
      "source": [
        "%pip install -q -U langchain\n",
        "%pip install -q -U langchain-google-genai\n",
        "%pip install -q -U langgraph"
      ],
      "metadata": {
        "id": "FIKBVuDEY2-B",
        "outputId": "6be3fb91-440b-421b-9982-06023ed308af",
        "colab": {
          "base_uri": "https://localhost:8080/"
        }
      },
      "execution_count": 4,
      "outputs": [
        {
          "output_type": "stream",
          "name": "stdout",
          "text": [
            "\u001b[2K     \u001b[90m━━━━━━━━━━━━━━━━━━━━━━━━━━━━━━━━━━━━━━━━\u001b[0m \u001b[32m50.4/50.4 kB\u001b[0m \u001b[31m1.8 MB/s\u001b[0m eta \u001b[36m0:00:00\u001b[0m\n",
            "\u001b[2K   \u001b[90m━━━━━━━━━━━━━━━━━━━━━━━━━━━━━━━━━━━━━━━━\u001b[0m \u001b[32m1.0/1.0 MB\u001b[0m \u001b[31m15.7 MB/s\u001b[0m eta \u001b[36m0:00:00\u001b[0m\n",
            "\u001b[2K   \u001b[90m━━━━━━━━━━━━━━━━━━━━━━━━━━━━━━━━━━━━━━━━\u001b[0m \u001b[32m404.4/404.4 kB\u001b[0m \u001b[31m23.3 MB/s\u001b[0m eta \u001b[36m0:00:00\u001b[0m\n",
            "\u001b[2K   \u001b[90m━━━━━━━━━━━━━━━━━━━━━━━━━━━━━━━━━━━━━━━━\u001b[0m \u001b[32m295.8/295.8 kB\u001b[0m \u001b[31m18.4 MB/s\u001b[0m eta \u001b[36m0:00:00\u001b[0m\n",
            "\u001b[2K   \u001b[90m━━━━━━━━━━━━━━━━━━━━━━━━━━━━━━━━━━━━━━━━\u001b[0m \u001b[32m76.4/76.4 kB\u001b[0m \u001b[31m5.1 MB/s\u001b[0m eta \u001b[36m0:00:00\u001b[0m\n",
            "\u001b[2K   \u001b[90m━━━━━━━━━━━━━━━━━━━━━━━━━━━━━━━━━━━━━━━━\u001b[0m \u001b[32m78.0/78.0 kB\u001b[0m \u001b[31m4.3 MB/s\u001b[0m eta \u001b[36m0:00:00\u001b[0m\n",
            "\u001b[2K   \u001b[90m━━━━━━━━━━━━━━━━━━━━━━━━━━━━━━━━━━━━━━━━\u001b[0m \u001b[32m141.9/141.9 kB\u001b[0m \u001b[31m9.2 MB/s\u001b[0m eta \u001b[36m0:00:00\u001b[0m\n",
            "\u001b[2K   \u001b[90m━━━━━━━━━━━━━━━━━━━━━━━━━━━━━━━━━━━━━━━━\u001b[0m \u001b[32m54.5/54.5 kB\u001b[0m \u001b[31m3.7 MB/s\u001b[0m eta \u001b[36m0:00:00\u001b[0m\n",
            "\u001b[2K   \u001b[90m━━━━━━━━━━━━━━━━━━━━━━━━━━━━━━━━━━━━━━━━\u001b[0m \u001b[32m58.3/58.3 kB\u001b[0m \u001b[31m4.0 MB/s\u001b[0m eta \u001b[36m0:00:00\u001b[0m\n",
            "\u001b[2K   \u001b[90m━━━━━━━━━━━━━━━━━━━━━━━━━━━━━━━━━━━━━━━━\u001b[0m \u001b[32m40.4/40.4 kB\u001b[0m \u001b[31m1.5 MB/s\u001b[0m eta \u001b[36m0:00:00\u001b[0m\n",
            "\u001b[2K   \u001b[90m━━━━━━━━━━━━━━━━━━━━━━━━━━━━━━━━━━━━━━━━\u001b[0m \u001b[32m160.8/160.8 kB\u001b[0m \u001b[31m4.2 MB/s\u001b[0m eta \u001b[36m0:00:00\u001b[0m\n",
            "\u001b[2K   \u001b[90m━━━━━━━━━━━━━━━━━━━━━━━━━━━━━━━━━━━━━━━━\u001b[0m \u001b[32m760.0/760.0 kB\u001b[0m \u001b[31m20.2 MB/s\u001b[0m eta \u001b[36m0:00:00\u001b[0m\n",
            "\u001b[2K   \u001b[90m━━━━━━━━━━━━━━━━━━━━━━━━━━━━━━━━━━━━━━━━\u001b[0m \u001b[32m108.7/108.7 kB\u001b[0m \u001b[31m3.4 MB/s\u001b[0m eta \u001b[36m0:00:00\u001b[0m\n",
            "\u001b[2K   \u001b[90m━━━━━━━━━━━━━━━━━━━━━━━━━━━━━━━━━━━━━━━━\u001b[0m \u001b[32m378.0/378.0 kB\u001b[0m \u001b[31m10.0 MB/s\u001b[0m eta \u001b[36m0:00:00\u001b[0m\n",
            "\u001b[?25h"
          ]
        }
      ]
    },
    {
      "cell_type": "code",
      "source": [
        "from langchain_google_genai import ChatGoogleGenerativeAI\n",
        "from langchain_core.messages import HumanMessage, AIMessage"
      ],
      "metadata": {
        "id": "Jo0iKxITY1aw"
      },
      "execution_count": 5,
      "outputs": []
    },
    {
      "cell_type": "code",
      "execution_count": 6,
      "metadata": {
        "vscode": {
          "languageId": "plaintext"
        },
        "id": "8unBeusIWt7x"
      },
      "outputs": [],
      "source": [
        "from google.colab import userdata\n",
        "google_api_key = userdata.get(\"GEMINI_API_KEY\")"
      ]
    },
    {
      "cell_type": "code",
      "source": [
        "llm: ChatGoogleGenerativeAI = ChatGoogleGenerativeAI(model=\"gemini-1.5-flash\", api_key=google_api_key)"
      ],
      "metadata": {
        "id": "UJVhbb_T3oxU"
      },
      "execution_count": 7,
      "outputs": []
    },
    {
      "cell_type": "code",
      "source": [
        "llm_response: AIMessage = llm.invoke(\"How powerful are starship raptor engines? explain to a 5 yr\")\n",
        "llm_response"
      ],
      "metadata": {
        "id": "iJ3n-HUt4ofy",
        "outputId": "caa96d8e-3af1-4b29-cdc4-e49fb09044da",
        "colab": {
          "base_uri": "https://localhost:8080/"
        }
      },
      "execution_count": 8,
      "outputs": [
        {
          "output_type": "execute_result",
          "data": {
            "text/plain": [
              "AIMessage(content=\"Imagine a big, strong rocket engine that helps a spaceship fly to the moon! It's called a Raptor engine.\\n\\nIt's like a super strong firecracker that makes a big BOOM and pushes the spaceship really, really fast. It's so powerful, it can make the spaceship go as fast as a car on a highway, but way higher up in space! \\n\\nThe Raptor engine uses special fuel that burns like a fire and makes a lot of smoke. This smoke pushes the spaceship forward like a big wind. \\n\\nIt's so powerful, it can send a spaceship to the moon and back! \\n\", additional_kwargs={}, response_metadata={'prompt_feedback': {'block_reason': 0, 'safety_ratings': []}, 'finish_reason': 'STOP', 'safety_ratings': [{'category': 'HARM_CATEGORY_SEXUALLY_EXPLICIT', 'probability': 'NEGLIGIBLE', 'blocked': False}, {'category': 'HARM_CATEGORY_HATE_SPEECH', 'probability': 'NEGLIGIBLE', 'blocked': False}, {'category': 'HARM_CATEGORY_HARASSMENT', 'probability': 'NEGLIGIBLE', 'blocked': False}, {'category': 'HARM_CATEGORY_DANGEROUS_CONTENT', 'probability': 'NEGLIGIBLE', 'blocked': False}]}, id='run-0f66a36c-cd11-471b-89ce-25f43df3be8d-0', usage_metadata={'input_tokens': 15, 'output_tokens': 126, 'total_tokens': 141})"
            ]
          },
          "metadata": {},
          "execution_count": 8
        }
      ]
    },
    {
      "cell_type": "code",
      "source": [
        "from langgraph.graph import StateGraph, START, END\n",
        "from langgraph.graph.state import CompiledStateGraph"
      ],
      "metadata": {
        "id": "PD1HkhmGE3Ck"
      },
      "execution_count": 9,
      "outputs": []
    },
    {
      "cell_type": "code",
      "source": [
        "from typing_extensions import TypedDict\n",
        "\n",
        "class TextAnalysisState(TypedDict):\n",
        "  text: str\n",
        "  classification: str\n",
        "  entities: str\n",
        "  summary: str"
      ],
      "metadata": {
        "id": "InsmDW_0I51Q"
      },
      "execution_count": 28,
      "outputs": []
    },
    {
      "cell_type": "code",
      "source": [
        "def classification_node(state: TextAnalysisState):\n",
        "  text = state[\"text\"]\n",
        "\n",
        "  prompt = \"\"\"\n",
        "    You are given a Text as input.\n",
        "\n",
        "    You need to categorize the text into one category.\n",
        "\n",
        "    Just return the category only i.e: News, Blog, Research, or Other\n",
        "\n",
        "    Text is: {text}\n",
        "    \"\"\"\n",
        "\n",
        "  prompt = prompt.format(text=text)\n",
        "\n",
        "  llm_response: AIMessage = llm.invoke(prompt)\n",
        "\n",
        "  return {\n",
        "    \"classification\": llm_response.content\n",
        "  }\n",
        "\n",
        "classification_node(TextAnalysisState(text=\"\"\"Everything You Need to Know About Microsoft Copilot+ PCs\n",
        "Microsoft aimed to revolutionize its Windows operating system with this AI-soaked laptop certification. It’s still a work in progress.\n",
        "Gradient blue background with text that reads Copilot  PC. The fastest most intelligent Windows PCs ever built.\n",
        "Courtesy of Microsoft\n",
        "\n",
        "In May 2024, Microsoft announced a new initiative called Copilot+ PC for Windows laptops. If you aren’t immersed in the world of Windows, you probably met the announcement with a confused shrug—a confusion that persists thanks to what has been, in my estimation, some iffy messaging around the term.\n",
        "\n",
        "Today, I'll sort it all out for you and explain what Copilot+ is, why it matters (or doesn’t), and, most important, whether your next laptop should be a Copilot+ PC.\n",
        "\n",
        "If you buy something using links in our stories, we may earn a commission. This helps support our journalism. Learn more.\n",
        "\n",
        "The Difference Between Copilot and Copilot+\n",
        "Gear\n",
        "Upgrade your life with our buying guides, deals, and how-to guides, all tested by experts.\n",
        "\n",
        "Sign up\n",
        "By signing up you agree to our User Agreement (including the class action waiver and arbitration provisions), our Privacy Policy & Cookie Statement and to receive marketing and account-related emails from WIRED. You can unsubscribe at any time. This site is protected by reCAPTCHA and the Google Privacy Policy and Terms of Service apply.\n",
        "\n",
        "All of the confusion likely begins here. Copilot is Microsoft’s generative artificial intelligence chatbot, which launched in February 2023 as Bing Chat and later evolved into Copilot—“Your everyday AI companion.” You can check it out by visiting copilot.microsoft.com or, if you have a Windows computer made after January 2024, by pressing the Copilot button to the right of the space bar. Copilot is straightforward: It’s a web-based tool that can generate text, create images, and help you brainstorm ideas.\n",
        "\n",
        "Featured Video\n",
        "\n",
        "\n",
        "\n",
        "\n",
        "While Copilot+ sounds like it might be a better version of Copilot, that’s not the case. At all. Copilot+ is a new category of PC hardware, one which has been specifically designed for AI tasks.\n",
        "\n",
        "Thumbnails of suggestions for ways to use artificial intelligence assistant tool such as compose an electronic song...\n",
        "Courtesy of Microsoft\n",
        "What Makes a PC a Copilot+ PC?\n",
        "Microsoft set strict terms about what would qualify a computer to earn the Copilot+ PC honorific. That includes the mandate that the machine has an AI processor (aka a neural processing unit, or NPU) capable of 40 trillion operations per second (TOPS), with 16 GB of RAM and 256 GB of solid-state storage. Microsoft often touts that all Copilot+ PCs have “all-day battery life,” but this isn’t in the official system requirements. The only Copilot+ PCs right now have been laptops, though there doesn’t appear to be any reason why a desktop couldn’t eventually qualify as a Copilot+ PC.\n",
        "\n",
        "The meat of the requirements is in the 40 TOPS spec. At launch, the only processors capable of meeting that mark were made not by Intel or AMD—the longtime providers of Windows processing power—but by Qualcomm, courtesy of its purpose-built Snapdragon X Elite chipset. (Qualcomm makes the vast majority of processors in smartphones.) The Snapdragon is an ARM chip, which means it relies on a different architecture than the x86 architectures that have dominated the personal computing space since the late 1970s.\n",
        "\n",
        "In simplistic terms, ARM chips are designed to be streamlined and efficient, eschewing the complex processing techniques that have increasingly become essential to improving x86 performance over the decades. Your Windows computer probably uses an x86, while your cell phone runs on an ARM.\n",
        "\n",
        "\n",
        "Most Popular\n",
        "The World's First Commercial Space Station Looks Like a Luxury Hotel Inside\n",
        "Gear\n",
        "The World's First Commercial Space Station Looks Like a Luxury Hotel Inside\n",
        "By Carlton Reid\n",
        "We Tried the World’s Most Expensive Wireless Speakers\n",
        "Gear\n",
        "We Tried the World’s Most Expensive Wireless Speakers\n",
        "By Verity Burns\n",
        "Tesla's Cybercab Is Here\n",
        "Gear\n",
        "Tesla's Cybercab Is Here\n",
        "By Aarian Marshall\n",
        "Give Your Back a Break With Our Favorite Office Chairs\n",
        "Gear\n",
        "Give Your Back a Break With Our Favorite Office Chairs\n",
        "By Julian Chokkattu\n",
        "Advertisement\n",
        "\n",
        "Qualcomm/ARM-based Windows PCs got a tentative start in the late 2010s, but none of these products ever found success in the market. Microsoft’s first attempt at launching a PC with Qualcomm silicon in 2019 was an outright disaster. The whole idea looked dead for a while until Apple moved away from x86 to its own ARM-based silicon in 2020. Then the door for ARM-based computers suddenly blew wide open, as Apple’s performance and battery life numbers on its ARM M1 chipsets turned heads. Windows on ARM became the chatter once again, and for Microsoft, that meant redoubling its efforts on ARM and with Qualcomm—eventually creating the Copilot+ PC moniker.\n",
        "\n",
        "Can an Intel or AMD PC Be a Copilot+ PC?\n",
        "No x86 chip has met Microsoft’s 40 TOPS spec—until now. While older AMD and Intel NPUs max out somewhere below 20 TOPS, new chips from these manufacturers have broken through the 40 TOPS barrier. Laptops with AMD Ryzen AI 300 series and Intel Core Ultra 200V series CPUs now formally qualify as Copilot+ PCs. By November 2024, compatible Intel and AMD laptops will receive Copilot+ PC enhancements via the Windows Update system.\n",
        "\n",
        "What Can Copilot+ PCs Do That Others Can’t?\n",
        "Screenshot of Microsoft Windows\n",
        "Courtesy of Microsoft\n",
        "All that talk of TOPS is irrelevant to the average person. The real question is what you can do with all those TOPS, right? The official list of unique Copilot+ PC features includes six items:\n",
        "\n",
        "\n",
        "Most Popular\n",
        "The World's First Commercial Space Station Looks Like a Luxury Hotel Inside\n",
        "Gear\n",
        "The World's First Commercial Space Station Looks Like a Luxury Hotel Inside\n",
        "By Carlton Reid\n",
        "We Tried the World’s Most Expensive Wireless Speakers\n",
        "Gear\n",
        "We Tried the World’s Most Expensive Wireless Speakers\n",
        "By Verity Burns\n",
        "Tesla's Cybercab Is Here\n",
        "Gear\n",
        "Tesla's Cybercab Is Here\n",
        "By Aarian Marshall\n",
        "Give Your Back a Break With Our Favorite Office Chairs\n",
        "Gear\n",
        "Give Your Back a Break With Our Favorite Office Chairs\n",
        "By Julian Chokkattu\n",
        "Advertisement\n",
        "\n",
        "Automatic Super Resolution: Changes screen resolution automatically and in real time during video games to improve quality.\n",
        "Live Translate: Translates audio in real time captured via a streaming source or over the microphone into your choice of 44 languages, overlaying the translation on the screen. (Non-Copilot+ PCs can display captioned subtitles with Live Captions, but not translated ones.)\n",
        "Paint Cocreator: Describe an image in Microsoft Paint, draw a crude version of it, and then let the AI finish the job for you. It sort of works sometimes.\n",
        "Restyle Image and Image Creator in Photos: Turn an existing photo into a cartoon or an oil painting, or tell Photos to create one from scratch. It's similar to Paint Cocreator but in the Photos app.\n",
        "Windows Studio Effects (full experience): Touches up video calls with auto-adjusted lighting and sound, new filters, and the “eye contact teleprompter.” This ensures your eyes appear to be staring at the webcam even if you are reading a script.\n",
        "Recall: A controversial feature that tracks everything you do on your computer, turns it into a timeline, and then lets you find something you saw or worked on previously but can no longer remember. It’s an artificial memory system that scared the bejesus out of many people due to its privacy implications (some have labeled it “spyware”), causing it to be put on hold when Copilot+ PC launched. The latest word is it will be available in preview with new privacy protections in October 2024.\n",
        "\n",
        "Most Popular\n",
        "The World's First Commercial Space Station Looks Like a Luxury Hotel Inside\n",
        "Gear\n",
        "The World's First Commercial Space Station Looks Like a Luxury Hotel Inside\n",
        "By Carlton Reid\n",
        "We Tried the World’s Most Expensive Wireless Speakers\n",
        "Gear\n",
        "We Tried the World’s Most Expensive Wireless Speakers\n",
        "By Verity Burns\n",
        "Tesla's Cybercab Is Here\n",
        "Gear\n",
        "Tesla's Cybercab Is Here\n",
        "By Aarian Marshall\n",
        "Give Your Back a Break With Our Favorite Office Chairs\n",
        "Gear\n",
        "Give Your Back a Break With Our Favorite Office Chairs\n",
        "By Julian Chokkattu\n",
        "Advertisement\n",
        "\n",
        "In addition to these features, Copilot+ PCs have proven more than capable of running general business apps like Microsoft Office products, web browsers, and the like. Their benchmarks are outpacing Intel and AMD laptops at similar prices much of the time. Battery life is also great on Copilot+ PCs across the board, thanks to the lower power consumption required by ARM CPUs.\n",
        "\n",
        "So What’s the Catch? What Can’t They Do?\n",
        "There’s a tiny problem with the ARM world. For decades, Windows has been written and rewritten and rewritten again to run on x86 chips. Throw a new chip architecture into the mix and you have to rewrite your code. That’s not easy when there are thousands of apps on the market.\n",
        "\n",
        "Application compatibility on ARM is better today than it was five years ago, in part because Microsoft’s Prism emulator can bridge the gaps between code written for x86 and the ARM CPU, but not all of them. So problems remain. Some apps won’t run at all. Some are still in the works. Some require emulation—and emulation invariably means a significant reduction in performance. There’s no canonical guide to what’s supported, but this site has the most comprehensive list I’ve seen.\n",
        "\n",
        "The short of it is that the more you try to do with your computer outside the basics, the more likely you are to run into a compatibility issue. Various games and specialized apps like VPNs often don’t work (or don’t work well). Even some mainstream apps like Google Drive for Desktop aren’t supported on ARM. Many common Windows-based benchmarks won’t run on ARM either, which can make apples-to-apples comparisons with x86 machines difficult.\n",
        "\n",
        "Side top and front view of a silver laptop. Background blue and white fur texture.\n",
        "Samsung Galaxy Book4 Edge Copilot+ PC Photograph: Christopher Null; Getty Images\n",
        "\n",
        "Most Popular\n",
        "The World's First Commercial Space Station Looks Like a Luxury Hotel Inside\n",
        "Gear\n",
        "The World's First Commercial Space Station Looks Like a Luxury Hotel Inside\n",
        "By Carlton Reid\n",
        "We Tried the World’s Most Expensive Wireless Speakers\n",
        "Gear\n",
        "We Tried the World’s Most Expensive Wireless Speakers\n",
        "By Verity Burns\n",
        "Tesla's Cybercab Is Here\n",
        "Gear\n",
        "Tesla's Cybercab Is Here\n",
        "By Aarian Marshall\n",
        "Give Your Back a Break With Our Favorite Office Chairs\n",
        "Gear\n",
        "Give Your Back a Break With Our Favorite Office Chairs\n",
        "By Julian Chokkattu\n",
        "Advertisement\n",
        "\n",
        "Graphics performance to date has also been uniformly poor on Copilot+ PCs, as the Snapdragon chipset's integrated GPU isn’t up to snuff compared to Intel and AMD—and these laptops don’t support more powerful discrete graphics. If you are serious about gaming or GPU-heavy work like video rendering, a Copilot+ PC may not be for you.\n",
        "\n",
        "These caveats won’t apply to Intel- or AMD-based Copilot+ PCs once they become available, as they won’t have ARM-based compatibility issues, though don't expect the same kind of battery life.\n",
        "\n",
        "Should You Buy a Copilot+ PC?\n",
        "Today, Copilot+ PCs are ideal for anyone who wants exceptional battery life but isn’t exactly pushing their laptops to the limit. Some of the Copilot+ PC AI features are useful—the Live Translate feature is downright amazing—while some are little more than novelties. Will a feature like Recall become a must-have or be shunned by those concerned about being tracked? Time will tell, and soon enough.\n",
        "\n",
        "Meanwhile, consider Copilot+ PCs on their own merits, as performance, features, and price vary more widely than you’d think.\n",
        "\n",
        "Power up with unlimited access to WIRED. Get best-in-class reporting that's too important to ignore for just $2.50 $1 per month for 1 year. Includes unlimited digital access and exclusive subscriber-only content. Subscribe Today.\"\"\"))\n",
        "\n",
        "\n"
      ],
      "metadata": {
        "id": "L4aRLyPRGyEP",
        "outputId": "34129f0c-e6b3-48ff-e399-509b6c417280",
        "colab": {
          "base_uri": "https://localhost:8080/"
        }
      },
      "execution_count": 33,
      "outputs": [
        {
          "output_type": "execute_result",
          "data": {
            "text/plain": [
              "{'classification': 'Blog \\n'}"
            ]
          },
          "metadata": {},
          "execution_count": 33
        }
      ]
    },
    {
      "cell_type": "code",
      "source": [
        "def entity_extraction_node(state: TextAnalysisState):\n",
        "  pass"
      ],
      "metadata": {
        "id": "IdDgGGllPXhD"
      },
      "execution_count": 13,
      "outputs": []
    },
    {
      "cell_type": "code",
      "source": [
        "def summarization_node(state: TextAnalysisState):\n",
        "  pass"
      ],
      "metadata": {
        "id": "LTW2nEnQPb0r"
      },
      "execution_count": 14,
      "outputs": []
    }
  ],
  "metadata": {
    "language_info": {
      "name": "python"
    },
    "colab": {
      "provenance": []
    },
    "kernelspec": {
      "name": "python3",
      "display_name": "Python 3"
    }
  },
  "nbformat": 4,
  "nbformat_minor": 0
}