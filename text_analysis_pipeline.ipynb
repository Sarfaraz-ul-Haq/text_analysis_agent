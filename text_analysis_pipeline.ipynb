{
  "cells": [
    {
      "cell_type": "code",
      "source": [
        "%%capture --no-stderr\n",
        "%pip install -q -U langchain\n",
        "%pip install -q -U langchain-google-genai\n",
        "%pip install -q -U langgraph"
      ],
      "metadata": {
        "id": "FIKBVuDEY2-B"
      },
      "execution_count": 1,
      "outputs": []
    },
    {
      "cell_type": "code",
      "source": [
        "from langchain_google_genai import ChatGoogleGenerativeAI\n",
        "from langchain_core.messages import HumanMessage, AIMessage"
      ],
      "metadata": {
        "id": "Jo0iKxITY1aw"
      },
      "execution_count": 2,
      "outputs": []
    },
    {
      "cell_type": "code",
      "execution_count": 3,
      "metadata": {
        "vscode": {
          "languageId": "plaintext"
        },
        "id": "8unBeusIWt7x"
      },
      "outputs": [],
      "source": [
        "from google.colab import userdata\n",
        "google_api_key = userdata.get(\"GEMINI_API_KEY\")"
      ]
    },
    {
      "cell_type": "code",
      "source": [
        "llm: ChatGoogleGenerativeAI = ChatGoogleGenerativeAI(model=\"gemini-1.5-flash\", api_key=google_api_key)"
      ],
      "metadata": {
        "id": "UJVhbb_T3oxU"
      },
      "execution_count": 4,
      "outputs": []
    },
    {
      "cell_type": "code",
      "source": [
        "from langgraph.graph import StateGraph, START, END\n",
        "from langgraph.graph.state import CompiledStateGraph"
      ],
      "metadata": {
        "id": "PD1HkhmGE3Ck"
      },
      "execution_count": 7,
      "outputs": []
    },
    {
      "cell_type": "code",
      "source": [
        "from typing_extensions import TypedDict\n",
        "\n",
        "class TextAnalysisState(TypedDict):\n",
        "  text: str\n",
        "  classification: str\n",
        "  entities: str\n",
        "  summary: str"
      ],
      "metadata": {
        "id": "InsmDW_0I51Q"
      },
      "execution_count": 8,
      "outputs": []
    },
    {
      "cell_type": "code",
      "source": [
        "def classification_node(state: TextAnalysisState):\n",
        "  text: str = state[\"text\"]\n",
        "\n",
        "  prompt: str = \"\"\"\n",
        "You will receive a text input, and your task is to classify\n",
        "the text into one of the following categories: News, Blog,\n",
        "Research, or Other.\n",
        "\n",
        "Based on the content, choose the most appropriate category.\n",
        "\n",
        "Return only the category name.\n",
        "\n",
        "The text is: {text}\"\"\"\n",
        "\n",
        "  llm_response: AIMessage = llm.invoke(prompt.format(text=text))\n",
        "\n",
        "  return {\n",
        "    \"classification\": llm_response.content\n",
        "  }"
      ],
      "metadata": {
        "id": "L4aRLyPRGyEP"
      },
      "execution_count": 22,
      "outputs": []
    },
    {
      "cell_type": "code",
      "source": [
        "def summarization_node(state: TextAnalysisState):\n",
        "  text: str = state[\"text\"]\n",
        "\n",
        "  prompt: str = \"\"\"\n",
        "  Summarise the following text:\n",
        "\n",
        "  {text}\n",
        "  \"\"\"\n",
        "\n",
        "  llm_response: AIMessage = llm.invoke(prompt.format(text=text))\n",
        "\n",
        "  return {\n",
        "    \"summary\": llm_response.content\n",
        "  }"
      ],
      "metadata": {
        "id": "LTW2nEnQPb0r"
      },
      "execution_count": 49,
      "outputs": []
    },
    {
      "cell_type": "code",
      "source": [
        "from langgraph.graph import StateGraph, START, END\n",
        "from langgraph.graph.state import CompiledStateGraph\n",
        "\n",
        "builder: StateGraph = StateGraph(state_schema=TextAnalysisState)\n",
        "\n",
        "builder.add_node(\"Classification Node\", classification_node)\n",
        "builder.add_node(\"Entity Extraction Node\", entity_extraction_node)\n",
        "builder.add_node(\"Summarization Node\", summarization_node)\n",
        "\n",
        "builder.add_edge(START, \"Classification Node\")\n",
        "builder.add_edge(\"Classification Node\", \"Entity Extraction Node\")\n",
        "builder.add_edge(\"Entity Extraction Node\", \"Summarization Node\")\n",
        "builder.add_edge(\"Summarization Node\", END)\n",
        "\n",
        "graph: CompiledStateGraph = builder.compile()"
      ],
      "metadata": {
        "id": "aZ1r08JeFkTe"
      },
      "execution_count": 54,
      "outputs": []
    },
    {
      "cell_type": "code",
      "source": [
        "from IPython.display import Markdown, Image, display\n",
        "\n",
        "Image(graph.get_graph().draw_mermaid_png())"
      ],
      "metadata": {
        "id": "SsV-3UKJIfX9",
        "outputId": "7ee8696d-5be7-4d30-c843-55d12b9bed29",
        "colab": {
          "base_uri": "https://localhost:8080/",
          "height": 449
        }
      },
      "execution_count": 79,
      "outputs": [
        {
          "output_type": "execute_result",
          "data": {
            "image/jpeg": "[encoded data removed]",
            "text/plain": [
              "<IPython.core.display.Image object>"
            ]
          },
          "metadata": {},
          "execution_count": 79
        }
      ]
    },
    {
      "cell_type": "code",
      "source": [
        "text: str = \"\"\"\n",
        "Introducing OpenAI o1-preview\n",
        "A new series of reasoning models for solving hard problems. Available now.\n",
        "\n",
        "Update on September 17, 2024: Rate limits are now 50 queries per week for o1-preview and 50 queries per day for o1-mini.\n",
        "\n",
        "We've developed a new series of AI models designed to spend more time thinking before they respond. They can reason through complex tasks and solve harder problems than previous models in science, coding, and math.\n",
        "\n",
        "Today, we are releasing the first of this series in ChatGPT and our API. This is a preview and we expect regular updates and improvements. Alongside this release, we’re also including evaluations for the next update, currently in development.\n",
        "\n",
        "How it works\n",
        "We trained these models to spend more time thinking through problems before they respond, much like a person would. Through training, they learn to refine their thinking process, try different strategies, and recognize their mistakes.\n",
        "\n",
        "In our tests, the next model update performs similarly to PhD students on challenging benchmark tasks in physics, chemistry, and biology. We also found that it excels in math and coding. In a qualifying exam for the International Mathematics Olympiad (IMO), GPT-4o correctly solved only 13% of problems, while the reasoning model scored 83%. Their coding abilities were evaluated in contests and reached the 89th percentile in Codeforces competitions. You can read more about this in our technical research post.\n",
        "\n",
        "As an early model, it doesn't yet have many of the features that make ChatGPT useful, like browsing the web for information and uploading files and images. For many common cases GPT-4o will be more capable in the near term.\n",
        "\n",
        "But for complex reasoning tasks this is a significant advancement and represents a new level of AI capability. Given this, we are resetting the counter back to 1 and naming this series OpenAI o1.\n",
        "\n",
        "Safety\n",
        "As part of developing these new models, we have come up with a new safety training approach that harnesses their reasoning capabilities to make them adhere to safety and alignment guidelines. By being able to reason about our safety rules in context, it can apply them more effectively.\n",
        "\n",
        "One way we measure safety is by testing how well our model continues to follow its safety rules if a user tries to bypass them (known as \"jailbreaking\"). On one of our hardest jailbreaking tests, GPT-4o scored 22 (on a scale of 0-100) while our o1-preview model scored 84. You can read more about this in the system card and our research post.\n",
        "\n",
        "To match the new capabilities of these models, we’ve bolstered our safety work, internal governance, and federal government collaboration. This includes rigorous testing and evaluations using our Preparedness Framework(opens in a new window), best-in-class red teaming, and board-level review processes, including by our Safety & Security Committee.\n",
        "\n",
        "To advance our commitment to AI safety, we recently formalized agreements with the U.S. and U.K. AI Safety Institutes. We've begun operationalizing these agreements, including granting the institutes early access to a research version of this model. This was an important first step in our partnership, helping to establish a process for research, evaluation, and testing of future models prior to and following their public release.\n",
        "\n",
        "Whom it’s for\n",
        "These enhanced reasoning capabilities may be particularly useful if you’re tackling complex problems in science, coding, math, and similar fields. For example, o1 can be used by healthcare researchers to annotate cell sequencing data, by physicists to generate complicated mathematical formulas needed for quantum optics, and by developers in all fields to build and execute multi-step workflows.\n",
        "\"\"\"\n",
        "result = graph.invoke({\"text\": text})\n",
        "result"
      ],
      "metadata": {
        "id": "QR3hx2q9JBf-",
        "outputId": "57588e8a-2113-4e73-840e-dd495f65a6ab",
        "colab": {
          "base_uri": "https://localhost:8080/"
        }
      },
      "execution_count": 80,
      "outputs": [
        {
          "output_type": "execute_result",
          "data": {
            "text/plain": [
              "{'text': '\\nIntroducing OpenAI o1-preview\\nA new series of reasoning models for solving hard problems. Available now.\\n\\nUpdate on September 17, 2024: Rate limits are now 50 queries per week for o1-preview and 50 queries per day for o1-mini.\\n\\nWe\\'ve developed a new series of AI models designed to spend more time thinking before they respond. They can reason through complex tasks and solve harder problems than previous models in science, coding, and math.\\n\\nToday, we are releasing the first of this series in ChatGPT and our API. This is a preview and we expect regular updates and improvements. Alongside this release, we’re also including evaluations for the next update, currently in development.\\n\\nHow it works\\nWe trained these models to spend more time thinking through problems before they respond, much like a person would. Through training, they learn to refine their thinking process, try different strategies, and recognize their mistakes. \\n\\nIn our tests, the next model update performs similarly to PhD students on challenging benchmark tasks in physics, chemistry, and biology. We also found that it excels in math and coding. In a qualifying exam for the International Mathematics Olympiad (IMO), GPT-4o correctly solved only 13% of problems, while the reasoning model scored 83%. Their coding abilities were evaluated in contests and reached the 89th percentile in Codeforces competitions. You can read more about this in our technical research post.\\n\\nAs an early model, it doesn\\'t yet have many of the features that make ChatGPT useful, like browsing the web for information and uploading files and images. For many common cases GPT-4o will be more capable in the near term.\\n\\nBut for complex reasoning tasks this is a significant advancement and represents a new level of AI capability. Given this, we are resetting the counter back to 1 and naming this series OpenAI o1.\\n\\nSafety\\nAs part of developing these new models, we have come up with a new safety training approach that harnesses their reasoning capabilities to make them adhere to safety and alignment guidelines. By being able to reason about our safety rules in context, it can apply them more effectively. \\n\\nOne way we measure safety is by testing how well our model continues to follow its safety rules if a user tries to bypass them (known as \"jailbreaking\"). On one of our hardest jailbreaking tests, GPT-4o scored 22 (on a scale of 0-100) while our o1-preview model scored 84. You can read more about this in the system card and our research post.\\n\\nTo match the new capabilities of these models, we’ve bolstered our safety work, internal governance, and federal government collaboration. This includes rigorous testing and evaluations using our Preparedness Framework(opens in a new window), best-in-class red teaming, and board-level review processes, including by our Safety & Security Committee.\\n\\nTo advance our commitment to AI safety, we recently formalized agreements with the U.S. and U.K. AI Safety Institutes. We\\'ve begun operationalizing these agreements, including granting the institutes early access to a research version of this model. This was an important first step in our partnership, helping to establish a process for research, evaluation, and testing of future models prior to and following their public release.\\n\\nWhom it’s for\\nThese enhanced reasoning capabilities may be particularly useful if you’re tackling complex problems in science, coding, math, and similar fields. For example, o1 can be used by healthcare researchers to annotate cell sequencing data, by physicists to generate complicated mathematical formulas needed for quantum optics, and by developers in all fields to build and execute multi-step workflows. \\n',\n",
              " 'classification': 'Blog \\n',\n",
              " 'entities': ['OpenAI, ChatGPT, GPT-4o, International Mathematics Olympiad (IMO), Codeforces, U.S. AI Safety Institutes, U.K. AI Safety Institutes \\n'],\n",
              " 'summary': 'OpenAI has released a new series of AI models called \"o1-preview\" that are designed to excel at complex reasoning tasks, outperforming previous models in areas like science, coding, and math. These models are trained to think more deeply and strategically, resembling human problem-solving processes. \\n\\nThey demonstrate impressive capabilities, achieving scores comparable to PhD students on challenging benchmarks and surpassing GPT-4o in math and coding tasks. \\n\\nWhile they are still in early development and lack features like web browsing, their advanced reasoning abilities make them a significant advancement in AI. OpenAI has also implemented new safety measures tailored to these reasoning capabilities, resulting in significantly improved jailbreaking resistance. \\n\\nThese models are targeted towards users working on complex problems in science, coding, and math, offering potential applications in fields like healthcare research, physics, and software development. \\n'}"
            ]
          },
          "metadata": {},
          "execution_count": 80
        }
      ]
    },
    {
      "cell_type": "code",
      "source": [
        "print(\"Classification:\", result[\"classification\"])"
      ],
      "metadata": {
        "id": "cZVJ38pBKnm2",
        "outputId": "ec084fd1-bd0f-4a6a-d1ad-699e315814f3",
        "colab": {
          "base_uri": "https://localhost:8080/"
        }
      },
      "execution_count": 81,
      "outputs": [
        {
          "output_type": "stream",
          "name": "stdout",
          "text": [
            "Classification: Blog \n",
            "\n"
          ]
        }
      ]
    },
    {
      "cell_type": "code",
      "source": [
        "print(\"Entities:\", result[\"entities\"])"
      ],
      "metadata": {
        "id": "gFjr0Rf3LCNS",
        "outputId": "6593aa32-4a16-4523-8160-4093d73f0907",
        "colab": {
          "base_uri": "https://localhost:8080/"
        }
      },
      "execution_count": 82,
      "outputs": [
        {
          "output_type": "stream",
          "name": "stdout",
          "text": [
            "Entities: ['OpenAI, ChatGPT, GPT-4o, International Mathematics Olympiad (IMO), Codeforces, U.S. AI Safety Institutes, U.K. AI Safety Institutes \\n']\n"
          ]
        }
      ]
    },
    {
      "cell_type": "code",
      "source": [
        "print(\"Summary:\", result[\"summary\"])"
      ],
      "metadata": {
        "id": "_EX5OEpdLFxB",
        "outputId": "515e007b-25b3-4853-99bb-1c6214e34a84",
        "colab": {
          "base_uri": "https://localhost:8080/"
        }
      },
      "execution_count": 92,
      "outputs": [
        {
          "output_type": "stream",
          "name": "stdout",
          "text": [
            "Summary: OpenAI has released a new series of AI models called \"o1-preview\" that are designed to excel at complex reasoning tasks, outperforming previous models in areas like science, coding, and math. These models are trained to think more deeply and strategically, resembling human problem-solving processes. \n",
            "\n",
            "They demonstrate impressive capabilities, achieving scores comparable to PhD students on challenging benchmarks and surpassing GPT-4o in math and coding tasks. \n",
            "\n",
            "While they are still in early development and lack features like web browsing, their advanced reasoning abilities make them a significant advancement in AI. OpenAI has also implemented new safety measures tailored to these reasoning capabilities, resulting in significantly improved jailbreaking resistance. \n",
            "\n",
            "These models are targeted towards users working on complex problems in science, coding, and math, offering potential applications in fields like healthcare research, physics, and software development. \n",
            "\n"
          ]
        }
      ]
    }
  ],
  "metadata": {
    "language_info": {
      "name": "python"
    },
    "colab": {
      "provenance": []
    },
    "kernelspec": {
      "name": "python3",
      "display_name": "Python 3"
    }
  },
  "nbformat": 4,
  "nbformat_minor": 0
}