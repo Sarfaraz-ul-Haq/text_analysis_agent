{
  "cells": [
    {
      "cell_type": "code",
      "source": [
        "%pip install -q -U langchain\n",
        "%pip install -q -U langchain-google-genai\n",
        "%pip install -q -U langgraph"
      ],
      "metadata": {
        "id": "FIKBVuDEY2-B"
      },
      "execution_count": 33,
      "outputs": []
    },
    {
      "cell_type": "code",
      "source": [
        "from langchain_google_genai import ChatGoogleGenerativeAI\n",
        "from langchain_core.messages import HumanMessage, AIMessage"
      ],
      "metadata": {
        "id": "Jo0iKxITY1aw"
      },
      "execution_count": 34,
      "outputs": []
    },
    {
      "cell_type": "code",
      "execution_count": 35,
      "metadata": {
        "vscode": {
          "languageId": "plaintext"
        },
        "id": "8unBeusIWt7x"
      },
      "outputs": [],
      "source": [
        "from google.colab import userdata\n",
        "google_api_key = userdata.get(\"GEMINI_API_KEY\")"
      ]
    },
    {
      "cell_type": "code",
      "source": [
        "llm: ChatGoogleGenerativeAI = ChatGoogleGenerativeAI(model=\"gemini-1.5-flash\", api_key=google_api_key)"
      ],
      "metadata": {
        "id": "UJVhbb_T3oxU"
      },
      "execution_count": 36,
      "outputs": []
    },
    {
      "cell_type": "code",
      "source": [
        "llm_response: AIMessage = llm.invoke(\"How powerful are starship raptor engines? explain to a 5 yr\")\n",
        "llm_response"
      ],
      "metadata": {
        "id": "iJ3n-HUt4ofy",
        "outputId": "a4b6b82b-8212-4266-ebb5-a377ec632c1f",
        "colab": {
          "base_uri": "https://localhost:8080/"
        }
      },
      "execution_count": 37,
      "outputs": [
        {
          "output_type": "execute_result",
          "data": {
            "text/plain": [
              "AIMessage(content='Imagine a tiny little firecracker. It makes a loud \"pop\" when you light it, right? Now imagine a firecracker that\\'s a million times bigger! That\\'s kind of like the Raptor engine on a Starship. It burns fuel really fast and makes a huge push, like a super-powerful rocket! That push helps the Starship fly really high into space, just like a big, strong superhero! \\n', additional_kwargs={}, response_metadata={'prompt_feedback': {'block_reason': 0, 'safety_ratings': []}, 'finish_reason': 'STOP', 'safety_ratings': [{'category': 'HARM_CATEGORY_SEXUALLY_EXPLICIT', 'probability': 'NEGLIGIBLE', 'blocked': False}, {'category': 'HARM_CATEGORY_HATE_SPEECH', 'probability': 'NEGLIGIBLE', 'blocked': False}, {'category': 'HARM_CATEGORY_HARASSMENT', 'probability': 'NEGLIGIBLE', 'blocked': False}, {'category': 'HARM_CATEGORY_DANGEROUS_CONTENT', 'probability': 'LOW', 'blocked': False}]}, id='run-2be032ad-870b-4bef-a8b8-cc165a311e8c-0', usage_metadata={'input_tokens': 15, 'output_tokens': 84, 'total_tokens': 99})"
            ]
          },
          "metadata": {},
          "execution_count": 37
        }
      ]
    },
    {
      "cell_type": "code",
      "source": [
        "from langgraph.graph import StateGraph, START, END\n",
        "from langgraph.graph.state import CompiledStateGraph"
      ],
      "metadata": {
        "id": "PD1HkhmGE3Ck"
      },
      "execution_count": 38,
      "outputs": []
    },
    {
      "cell_type": "code",
      "source": [
        "prompt = \"\"\"Classify the following text into one of the categories: News,\\\n",
        "Blog, Research, or Other.\\n\\nText:{text}\\n\\nCategory:\"\"\""
      ],
      "metadata": {
        "id": "Bh-Q3UTnF9kt"
      },
      "execution_count": 40,
      "outputs": []
    },
    {
      "cell_type": "code",
      "source": [
        "from typing_extensions import TypedDict\n",
        "\n",
        "def TextAnalysisState(TypedDict):\n",
        "  text: str\n",
        "  classification: str\n",
        "  entities: str\n",
        "  summary: str"
      ],
      "metadata": {
        "id": "InsmDW_0I51Q"
      },
      "execution_count": 41,
      "outputs": []
    },
    {
      "cell_type": "code",
      "source": [
        "def classification_node(state: TextAnalysisState):\n",
        "  pass"
      ],
      "metadata": {
        "id": "L4aRLyPRGyEP"
      },
      "execution_count": 42,
      "outputs": []
    },
    {
      "cell_type": "code",
      "source": [
        "def entity_extraction_node(state: TextAnalysisState):\n",
        "  pass"
      ],
      "metadata": {
        "id": "IdDgGGllPXhD"
      },
      "execution_count": 43,
      "outputs": []
    },
    {
      "cell_type": "code",
      "source": [
        "def summarization_node(state: TextAnalysisState):\n",
        "  pass"
      ],
      "metadata": {
        "id": "LTW2nEnQPb0r"
      },
      "execution_count": 44,
      "outputs": []
    }
  ],
  "metadata": {
    "language_info": {
      "name": "python"
    },
    "colab": {
      "provenance": []
    },
    "kernelspec": {
      "name": "python3",
      "display_name": "Python 3"
    }
  },
  "nbformat": 4,
  "nbformat_minor": 0
}