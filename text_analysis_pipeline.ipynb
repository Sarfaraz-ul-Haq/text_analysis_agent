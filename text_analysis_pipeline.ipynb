{
  "cells": [
    {
      "cell_type": "code",
      "source": [
        "%%capture --no-stderr\n",
        "%pip install -q -U langchain\n",
        "%pip install -q -U langchain-google-genai\n",
        "%pip install -q -U langgraph"
      ],
      "metadata": {
        "id": "FIKBVuDEY2-B"
      },
      "execution_count": 1,
      "outputs": []
    },
    {
      "cell_type": "code",
      "source": [
        "from langchain_google_genai import ChatGoogleGenerativeAI\n",
        "from langchain_core.messages import HumanMessage, AIMessage"
      ],
      "metadata": {
        "id": "Jo0iKxITY1aw"
      },
      "execution_count": 2,
      "outputs": []
    },
    {
      "cell_type": "code",
      "execution_count": 3,
      "metadata": {
        "vscode": {
          "languageId": "plaintext"
        },
        "id": "8unBeusIWt7x"
      },
      "outputs": [],
      "source": [
        "from google.colab import userdata\n",
        "google_api_key = userdata.get(\"GEMINI_API_KEY\")"
      ]
    },
    {
      "cell_type": "code",
      "source": [
        "llm: ChatGoogleGenerativeAI = ChatGoogleGenerativeAI(model=\"gemini-1.5-flash\", api_key=google_api_key)"
      ],
      "metadata": {
        "id": "UJVhbb_T3oxU"
      },
      "execution_count": 4,
      "outputs": []
    },
    {
      "cell_type": "code",
      "source": [
        "from langgraph.graph import StateGraph, START, END\n",
        "from langgraph.graph.state import CompiledStateGraph"
      ],
      "metadata": {
        "id": "PD1HkhmGE3Ck"
      },
      "execution_count": 7,
      "outputs": []
    },
    {
      "cell_type": "code",
      "source": [
        "from typing_extensions import TypedDict\n",
        "\n",
        "class TextAnalysisState(TypedDict):\n",
        "  text: str\n",
        "  classification: str\n",
        "  entities: str\n",
        "  summary: str"
      ],
      "metadata": {
        "id": "InsmDW_0I51Q"
      },
      "execution_count": 8,
      "outputs": []
    },
    {
      "cell_type": "code",
      "source": [
        "def classification_node(state: TextAnalysisState):\n",
        "  text: str = state[\"text\"]\n",
        "\n",
        "  prompt: str = \"\"\"\n",
        "You will receive a text input, and your task is to classify\n",
        "the text into one of the following categories: News, Blog,\n",
        "Research, or Other.\n",
        "\n",
        "Based on the content, choose the most appropriate category.\n",
        "\n",
        "Return only the category name.\n",
        "\n",
        "The text is: {text}\"\"\"\n",
        "\n",
        "  llm_response: AIMessage = llm.invoke(prompt.format(text=text))\n",
        "\n",
        "  return {\n",
        "    \"classification\": llm_response.content\n",
        "  }"
      ],
      "metadata": {
        "id": "L4aRLyPRGyEP"
      },
      "execution_count": 22,
      "outputs": []
    },
    {
      "cell_type": "code",
      "source": [
        "# prompt: check last output i want values only so rewrite my code\n",
        "\n",
        "def entity_extraction_node(state: TextAnalysisState):\n",
        "  text: str = state[\"text\"]\n",
        "  prompt: str = \"\"\"\n",
        "Extract all named entities (Person, Organization, Location) from the following text.\n",
        "Return only the entity names as a comma-separated list.\n",
        "\n",
        "Text:{text}\n",
        "\"\"\"\n",
        "  llm_response: AIMessage = llm.invoke(prompt.format(text=text))\n",
        "\n",
        "  return {\n",
        "    \"entities\": [llm_response.content]\n",
        "  }"
      ],
      "metadata": {
        "id": "IdDgGGllPXhD"
      },
      "execution_count": 46,
      "outputs": []
    },
    {
      "cell_type": "code",
      "source": [
        "def summarization_node(state: TextAnalysisState):\n",
        "  pass"
      ],
      "metadata": {
        "id": "LTW2nEnQPb0r"
      },
      "execution_count": null,
      "outputs": []
    }
  ],
  "metadata": {
    "language_info": {
      "name": "python"
    },
    "colab": {
      "provenance": []
    },
    "kernelspec": {
      "name": "python3",
      "display_name": "Python 3"
    }
  },
  "nbformat": 4,
  "nbformat_minor": 0
}